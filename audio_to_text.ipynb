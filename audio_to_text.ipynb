{
  "nbformat": 4,
  "nbformat_minor": 0,
  "metadata": {
    "colab": {
      "provenance": []
    },
    "kernelspec": {
      "name": "python3",
      "display_name": "Python 3"
    },
    "language_info": {
      "name": "python"
    }
  },
  "cells": [
    {
      "cell_type": "code",
      "source": [
        "import speech_recognition as sr"
      ],
      "metadata": {
        "id": "i2FvKzgZr0M7"
      },
      "execution_count": 25,
      "outputs": []
    },
    {
      "cell_type": "code",
      "source": [
        "file='/content/audio.wav'"
      ],
      "metadata": {
        "id": "gpp8ddAXs_5R"
      },
      "execution_count": 26,
      "outputs": []
    },
    {
      "cell_type": "code",
      "source": [
        "recognizer = sr.Recognizer()\n",
        "audioFile = sr.AudioFile(file)\n",
        "with audioFile as source:\n",
        "  data = recognizer.record(source)\n",
        "transcript = recognizer.recognize_google(data, key=None)"
      ],
      "metadata": {
        "id": "ruvPyjxQs0n2"
      },
      "execution_count": 27,
      "outputs": []
    },
    {
      "cell_type": "code",
      "source": [
        "transcript"
      ],
      "metadata": {
        "colab": {
          "base_uri": "https://localhost:8080/",
          "height": 72
        },
        "id": "WybCVaDxhyqR",
        "outputId": "0a45006f-21f4-456f-c3ad-f3af3b204bb7"
      },
      "execution_count": 28,
      "outputs": [
        {
          "output_type": "execute_result",
          "data": {
            "text/plain": [
              "\"Birch canoe slid on the smooth plank glue the sea to a dark blue background it is easy to tell the depth of the well these day the chicken leg of a variegated price is often served in Randall's the juice of lemons makes find the boxes down beside the pump truck the ha grimstead top corn and garbage for hours of City Works in a large size and stockings and hard to sell\""
            ],
            "application/vnd.google.colaboratory.intrinsic+json": {
              "type": "string"
            }
          },
          "metadata": {},
          "execution_count": 28
        }
      ]
    }
  ]
}